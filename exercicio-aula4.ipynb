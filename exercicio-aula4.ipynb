{
 "cells": [
  {
   "cell_type": "markdown",
   "id": "102cc024-c022-4484-a0a2-a907bf66399b",
   "metadata": {},
   "source": [
    "Jasmine Pinheiro de Souza - Gu302704x\n",
    "\n",
    "# Exercício - Aula 4\n",
    "\n",
    "Utilizando séries e dataframes, crie um quadro de dados com as seguintes informações:"
   ]
  },
  {
   "cell_type": "code",
   "execution_count": 6,
   "id": "2dfa0e7f-5a48-4906-b746-ab3f475b87bf",
   "metadata": {},
   "outputs": [],
   "source": [
    "dict= {\n",
    "    'nome': ['Anderson','Beatriz','Bruno','Cristiano','Daniel','Douglas','Elma','Fabricio','Gabriel','Janaina','Luiz','Marcos','Nadja','Oswaldo','Patricia','Ricardo'],\n",
    "    'idade': [24,36,45,56,29,20,38,47,23,56,32,22,36,68,22,38],\n",
    "    'cidade':['Santos','Atibaia','Guarulhos','Atibaia','Santos','Guarulhos','Guarulhos','Atibaia','Guarulhos','Guarulhos','Atibaia','Guarulhos','Santos','Guarulhos','Guarulhos','Santos'],\n",
    "    'Registro': [32123, 45828, 34985, 13457, 98439, 99348, 45019, 24894, 32948, 13480, 22884, 56821, 65938, 12956, 75439, 45392],\n",
    "    'Departamento': ['RH', 'PD', 'RH', 'ADM', 'ADM', 'RH', 'ADM', 'PD', 'PD', 'ADM', 'PD', 'ADM', 'PD', 'RH', 'ADM', 'PD'],\n",
    "    'Formação': ['Graduação', 'Mestrado', 'Graduação', 'Técnico', 'Graduação', 'Técnico', 'Graduação', 'Graduação', 'Técnico', 'Graduação', 'Graduação', 'Graduação', 'Graduação', 'Mestrado', 'Graduação', 'Mestrado']\n",
    "}"
   ]
  },
  {
   "cell_type": "markdown",
   "id": "2ee3aea8-8f6c-4ac9-b558-c7766932d431",
   "metadata": {},
   "source": [
    "Utilizando o quadro de dados criado, e utilizando o modelo de agrupamento (groupby) estudado em sala, crie um grupamento com utilizando: \n",
    "\n",
    "- as cidade dos funcionários\n",
    "- a formação dos funcionários\n",
    "- o departamento dos funcionários\n",
    "- a cidade e departamente dos funcionários\n",
    "- o departamento e a formação dos funcionários\n",
    "\n",
    "Utilizando a função lambda obtenha a diferença entre a média e o valor de cada subgrupo"
   ]
  },
  {
   "cell_type": "code",
   "execution_count": 2,
   "id": "699da80f-2189-48fe-97ee-502083d18321",
   "metadata": {},
   "outputs": [],
   "source": [
    "import pandas as pd"
   ]
  },
  {
   "cell_type": "code",
   "execution_count": 3,
   "id": "987fddfd-378b-46e9-b661-72176371e1b8",
   "metadata": {},
   "outputs": [],
   "source": [
    "import numpy as np"
   ]
  },
  {
   "cell_type": "code",
   "execution_count": 7,
   "id": "e194f8c8-3dd0-441c-a5de-76aa8d62ce6d",
   "metadata": {},
   "outputs": [],
   "source": [
    "df = pd.DataFrame(dict)"
   ]
  },
  {
   "cell_type": "code",
   "execution_count": 9,
   "id": "ec7440ca-96c5-48da-968c-1640a82a33eb",
   "metadata": {},
   "outputs": [
    {
     "name": "stdout",
     "output_type": "stream",
     "text": [
      "         nome  idade     cidade  Registro Departamento   Formação\n",
      "0    Anderson     24     Santos     32123           RH  Graduação\n",
      "1     Beatriz     36    Atibaia     45828           PD   Mestrado\n",
      "2       Bruno     45  Guarulhos     34985           RH  Graduação\n",
      "3   Cristiano     56    Atibaia     13457          ADM    Técnico\n",
      "4      Daniel     29     Santos     98439          ADM  Graduação\n",
      "5     Douglas     20  Guarulhos     99348           RH    Técnico\n",
      "6        Elma     38  Guarulhos     45019          ADM  Graduação\n",
      "7    Fabricio     47    Atibaia     24894           PD  Graduação\n",
      "8     Gabriel     23  Guarulhos     32948           PD    Técnico\n",
      "9     Janaina     56  Guarulhos     13480          ADM  Graduação\n",
      "10       Luiz     32    Atibaia     22884           PD  Graduação\n",
      "11     Marcos     22  Guarulhos     56821          ADM  Graduação\n",
      "12      Nadja     36     Santos     65938           PD  Graduação\n",
      "13    Oswaldo     68  Guarulhos     12956           RH   Mestrado\n",
      "14   Patricia     22  Guarulhos     75439          ADM  Graduação\n",
      "15    Ricardo     38     Santos     45392           PD   Mestrado\n"
     ]
    }
   ],
   "source": [
    "print(df)"
   ]
  },
  {
   "cell_type": "code",
   "execution_count": 10,
   "id": "700e05b7-4491-4407-aeea-f458a78c7152",
   "metadata": {},
   "outputs": [
    {
     "name": "stdout",
     "output_type": "stream",
     "text": [
      "Número de Funcionários por Cidade\n",
      "           Qtdfunc\n",
      "cidade            \n",
      "Atibaia          4\n",
      "Guarulhos        8\n",
      "Santos           4\n"
     ]
    }
   ],
   "source": [
    "# as cidade dos funcionarios\n",
    "\n",
    "cidade_group = df.groupby('cidade').agg(Qtdfunc=('nome', 'count'))\n",
    "print(\"Número de Funcionários por Cidade\")\n",
    "print(cidade_group)"
   ]
  },
  {
   "cell_type": "code",
   "execution_count": 11,
   "id": "3935aa6d-de14-4a84-86c2-d63ab4d2b00d",
   "metadata": {},
   "outputs": [
    {
     "name": "stdout",
     "output_type": "stream",
     "text": [
      "Número de Funcionários por Formação:\n",
      "           Qtdfunc\n",
      "Formação          \n",
      "Graduação       10\n",
      "Mestrado         3\n",
      "Técnico          3\n"
     ]
    }
   ],
   "source": [
    "# a formação dos funcionarios\n",
    "\n",
    "formacao_group = df.groupby('Formação').agg(Qtdfunc=('nome', 'count'))\n",
    "print(\"Número de Funcionários por Formação:\")\n",
    "print(formacao_group)"
   ]
  },
  {
   "cell_type": "code",
   "execution_count": 12,
   "id": "9a03e3f0-29fe-41f6-aca5-d6f49c6e2b30",
   "metadata": {},
   "outputs": [
    {
     "name": "stdout",
     "output_type": "stream",
     "text": [
      "Número de Funcionários por Departamento:\n",
      "              Qtdfunc\n",
      "Departamento         \n",
      "ADM                 6\n",
      "PD                  6\n",
      "RH                  4\n"
     ]
    }
   ],
   "source": [
    "# o departamento dos funcionarios\n",
    "\n",
    "departamento_group = df.groupby('Departamento').agg(Qtdfunc=('nome', 'count'))\n",
    "print(\"Número de Funcionários por Departamento:\")\n",
    "print(departamento_group)"
   ]
  },
  {
   "cell_type": "code",
   "execution_count": 13,
   "id": "72a58407-de5f-4841-9c6b-008f9e9abdad",
   "metadata": {},
   "outputs": [
    {
     "name": "stdout",
     "output_type": "stream",
     "text": [
      "Número de Funcionários por Cidade e Departamento:\n",
      "                        Qtdfunc\n",
      "cidade    Departamento         \n",
      "Atibaia   ADM                 1\n",
      "          PD                  3\n",
      "Guarulhos ADM                 4\n",
      "          PD                  1\n",
      "          RH                  3\n",
      "Santos    ADM                 1\n",
      "          PD                  2\n",
      "          RH                  1\n"
     ]
    }
   ],
   "source": [
    "# a cidade e departamente dos funcionarios\n",
    "\n",
    "cidade_departamento_group = df.groupby(['cidade', 'Departamento']).agg(Qtdfunc=('nome', 'count'))\n",
    "print(\"Número de Funcionários por Cidade e Departamento:\")\n",
    "print(cidade_departamento_group)"
   ]
  },
  {
   "cell_type": "code",
   "execution_count": 33,
   "id": "ac7fa21c-92ed-42f9-8e5d-03d2a62ee2ec",
   "metadata": {},
   "outputs": [
    {
     "name": "stdout",
     "output_type": "stream",
     "text": [
      "Número de Funcionários por Departamento e Formação:\n",
      "                        Qtdfunc\n",
      "Departamento Formação          \n",
      "ADM          Graduação        5\n",
      "             Técnico          1\n",
      "PD           Graduação        3\n",
      "             Mestrado         2\n",
      "             Técnico          1\n",
      "RH           Graduação        2\n",
      "             Mestrado         1\n",
      "             Técnico          1\n"
     ]
    }
   ],
   "source": [
    "# o departamento e a formação dos funcionarios\n",
    "\n",
    "departamento_formacao_group = df.groupby(['Departamento', 'Formação']).agg(Qtdfunc=('nome', 'count'))\n",
    "print(\"Número de Funcionários por Departamento e Formação:\")\n",
    "print(departamento_formacao_group)\n"
   ]
  },
  {
   "cell_type": "code",
   "execution_count": 22,
   "id": "63065547-fad5-48f2-acd2-4cf625e293f6",
   "metadata": {},
   "outputs": [
    {
     "name": "stdout",
     "output_type": "stream",
     "text": [
      "Número de Funcionários por Cidade com Diferença da Média:\n",
      "           Qtdfunc  Diferença da Média\n",
      "cidade                                \n",
      "Atibaia          4           -1.333333\n",
      "Guarulhos        8            2.666667\n",
      "Santos           4           -1.333333\n"
     ]
    }
   ],
   "source": [
    "# Grupo por cidade e contagem de funcionários por cidade\n",
    "cidade_group = df.groupby('cidade').agg(Qtdfunc=('nome', 'count'))\n",
    "\n",
    "# Calcular a diferença entre o valor de cada cidade e a média de todas as cidades\n",
    "cidade_group['Diferença da Média'] = cidade_group['Qtdfunc'].apply(lambda x: x - cidade_group['Qtdfunc'].mean())\n",
    "\n",
    "print(\"Número de Funcionários por Cidade com Diferença da Média:\")\n",
    "print(cidade_group)\n",
    "\n"
   ]
  },
  {
   "cell_type": "code",
   "execution_count": 25,
   "id": "5924bde1-cf25-4acc-9237-a969338902c1",
   "metadata": {},
   "outputs": [
    {
     "name": "stdout",
     "output_type": "stream",
     "text": [
      "Número de Funcionários por Formação com Diferença da Média:\n",
      "           Qtdfunc  Diferença da Média\n",
      "Formação                              \n",
      "Graduação       10            4.666667\n",
      "Mestrado         3           -2.333333\n",
      "Técnico          3           -2.333333\n"
     ]
    }
   ],
   "source": [
    "# Grupo por formação e contagem de funcionários por formação\n",
    "formacao_group = df.groupby('Formação').agg(Qtdfunc=('nome', 'count'))\n",
    "\n",
    "# Calcular a diferença entre a média e o valor de cada formação\n",
    "formacao_group['Diferença da Média'] = formacao_group['Qtdfunc'].apply(lambda x: x - formacao_group['Qtdfunc'].mean())\n",
    "\n",
    "print(\"Número de Funcionários por Formação com Diferença da Média:\")\n",
    "print(formacao_group)\n"
   ]
  },
  {
   "cell_type": "code",
   "execution_count": 26,
   "id": "5b7756f8-a02c-4671-be7c-2c719378bc02",
   "metadata": {},
   "outputs": [
    {
     "name": "stdout",
     "output_type": "stream",
     "text": [
      "Número de Funcionários por Departamento com Diferença da Média:\n",
      "              Qtdfunc  Diferença da Média\n",
      "Departamento                             \n",
      "ADM                 6            0.666667\n",
      "PD                  6            0.666667\n",
      "RH                  4           -1.333333\n"
     ]
    }
   ],
   "source": [
    "# Grupo por departamento e contagem de funcionários por departamento\n",
    "departamento_group = df.groupby('Departamento').agg(Qtdfunc=('nome', 'count'))\n",
    "\n",
    "# Calcular a diferença entre a média e o valor de cada departamento\n",
    "departamento_group['Diferença da Média'] = departamento_group['Qtdfunc'].apply(lambda x: x - departamento_group['Qtdfunc'].mean())\n",
    "\n",
    "print(\"Número de Funcionários por Departamento com Diferença da Média:\")\n",
    "print(departamento_group)\n"
   ]
  },
  {
   "cell_type": "code",
   "execution_count": 27,
   "id": "1841f541-7cd2-4c89-befa-ad2f75e7c703",
   "metadata": {},
   "outputs": [
    {
     "name": "stdout",
     "output_type": "stream",
     "text": [
      "Número de Funcionários por Cidade e Departamento com Diferença da Média:\n",
      "                        Qtdfunc  Diferença da Média\n",
      "cidade    Departamento                             \n",
      "Atibaia   ADM                 1                -1.0\n",
      "          PD                  3                 1.0\n",
      "Guarulhos ADM                 4                 2.0\n",
      "          PD                  1                -1.0\n",
      "          RH                  3                 1.0\n",
      "Santos    ADM                 1                -1.0\n",
      "          PD                  2                 0.0\n",
      "          RH                  1                -1.0\n"
     ]
    }
   ],
   "source": [
    "# Grupo por cidade e departamento e contagem de funcionários\n",
    "cidade_departamento_group = df.groupby(['cidade', 'Departamento']).agg(Qtdfunc=('nome', 'count'))\n",
    "\n",
    "# Calcular a diferença entre a média e o valor de cada cidade e departamento\n",
    "cidade_departamento_group['Diferença da Média'] = cidade_departamento_group['Qtdfunc'].apply(lambda x: x - cidade_departamento_group['Qtdfunc'].mean())\n",
    "\n",
    "print(\"Número de Funcionários por Cidade e Departamento com Diferença da Média:\")\n",
    "print(cidade_departamento_group)\n"
   ]
  },
  {
   "cell_type": "code",
   "execution_count": 28,
   "id": "60f67a2a-571f-4952-beba-050d82941b6e",
   "metadata": {},
   "outputs": [
    {
     "name": "stdout",
     "output_type": "stream",
     "text": [
      "Número de Funcionários por Departamento e Formação com Diferença da Média:\n",
      "                        Qtdfunc  Diferença da Média\n",
      "Departamento Formação                              \n",
      "ADM          Graduação        5                 3.0\n",
      "             Técnico          1                -1.0\n",
      "PD           Graduação        3                 1.0\n",
      "             Mestrado         2                 0.0\n",
      "             Técnico          1                -1.0\n",
      "RH           Graduação        2                 0.0\n",
      "             Mestrado         1                -1.0\n",
      "             Técnico          1                -1.0\n"
     ]
    }
   ],
   "source": [
    "# Grupo por departamento e formação e contagem de funcionários\n",
    "departamento_formacao_group = df.groupby(['Departamento', 'Formação']).agg(Qtdfunc=('nome', 'count'))\n",
    "\n",
    "# Calcular a diferença entre a média e o valor de cada departamento e formação\n",
    "departamento_formacao_group['Diferença da Média'] = departamento_formacao_group['Qtdfunc'].apply(lambda x: x - departamento_formacao_group['Qtdfunc'].mean())\n",
    "\n",
    "print(\"Número de Funcionários por Departamento e Formação com Diferença da Média:\")\n",
    "print(departamento_formacao_group)\n"
   ]
  },
  {
   "cell_type": "code",
   "execution_count": null,
   "id": "c0438486-7cbd-4dbc-8c5b-05d6167e4585",
   "metadata": {},
   "outputs": [],
   "source": []
  }
 ],
 "metadata": {
  "kernelspec": {
   "display_name": "Python 3 (ipykernel)",
   "language": "python",
   "name": "python3"
  },
  "language_info": {
   "codemirror_mode": {
    "name": "ipython",
    "version": 3
   },
   "file_extension": ".py",
   "mimetype": "text/x-python",
   "name": "python",
   "nbconvert_exporter": "python",
   "pygments_lexer": "ipython3",
   "version": "3.12.3"
  }
 },
 "nbformat": 4,
 "nbformat_minor": 5
}
